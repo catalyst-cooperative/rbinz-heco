{
 "cells": [
  {
   "cell_type": "code",
   "execution_count": null,
   "metadata": {},
   "outputs": [],
   "source": [
    "%load_ext autoreload\n",
    "%autoreload 2"
   ]
  },
  {
   "cell_type": "code",
   "execution_count": null,
   "metadata": {},
   "outputs": [],
   "source": [
    "import sys\n",
    "import importlib\n",
    "import re\n",
    "\n",
    "import pandas as pd\n",
    "import sqlalchemy as sa\n",
    "\n",
    "import pudl"
   ]
  },
  {
   "cell_type": "code",
   "execution_count": null,
   "metadata": {},
   "outputs": [],
   "source": [
    "import logging\n",
    "logger = logging.getLogger()\n",
    "logger.setLevel(logging.INFO)\n",
    "handler = logging.StreamHandler(stream=sys.stdout)\n",
    "formatter = logging.Formatter('%(message)s')\n",
    "handler.setFormatter(formatter)\n",
    "logger.handlers = [handler]"
   ]
  },
  {
   "cell_type": "code",
   "execution_count": null,
   "metadata": {},
   "outputs": [],
   "source": [
    "import matplotlib.pyplot as plt\n",
    "import matplotlib as mpl\n",
    "import seaborn as sns\n",
    "sns.set()\n",
    "%matplotlib inline"
   ]
  },
  {
   "cell_type": "code",
   "execution_count": null,
   "metadata": {},
   "outputs": [],
   "source": [
    "mpl.rcParams['figure.figsize'] = (8,8)\n",
    "mpl.rcParams['figure.dpi'] = 150\n",
    "pd.options.display.max_columns = 100\n",
    "pd.options.display.max_rows = 100"
   ]
  },
  {
   "cell_type": "code",
   "execution_count": null,
   "metadata": {},
   "outputs": [],
   "source": [
    "pudl_settings = pudl.workspace.setup.get_defaults()\n",
    "ferc1_engine = sa.create_engine(pudl_settings['ferc1_db'])\n",
    "pudl_engine = sa.create_engine(pudl_settings['pudl_db'])\n",
    "pudl_settings"
   ]
  },
  {
   "cell_type": "markdown",
   "metadata": {
    "toc-hr-collapsed": true
   },
   "source": [
    "# Sales by Rate Schedule"
   ]
  },
  {
   "cell_type": "markdown",
   "metadata": {},
   "source": [
    "### Request 2:\n",
    "* **p304 L8(b)** TOTAL RESIDENTIAL - MWh Sold (difficult b/c rate schedules change)\n",
    "* **p304 L8(c)** TOTAL RESIDENTIAL - Revenue (difficult b/c rate schedules change)\n",
    "* **p304 L8(d)** TOTAL RESIDENTIAL - Avg Number of Customers (difficult b/c rate schedules change)\n",
    "* **p304 L24(b)** TOTAL SM/LG C&I - MWh Sold (difficult b/c rate schedules change)\n",
    "* **p304 L24(c)** TOTAL SM/LG C&I - Revenue (difficult b/c rate schedules change)\n",
    "* **p304 L24(d)** TOTAL SM/LG C&I - Avg. Number of Customers (difficult b/c rate schedules change)\n",
    "* **p304 L43(b)** TOTAL (MWh Sold?) (doable b/c it's a specific designated row)\n",
    "* **p304 L43(c)** TOTAL (Revenue?) (doable b/c it's a specific designated row)\n",
    "* **p304 L43(d)** TOTAL (Avg. Number of Customers?) (doable b/c it's a specific designated row)\n",
    "\n",
    "Note that due to lack of any kind of standardization or categorization in the rate schedule nomenclature, and the variety that exists between all the different states and across years, it is extremely difficult to extract anything useful from this table. Even the `total` line is kind of a mess. However, the same information can be pulled from the `f1_elctrc_oper_rev` table (p300) below."
   ]
  },
  {
   "cell_type": "code",
   "execution_count": null,
   "metadata": {},
   "outputs": [],
   "source": [
    "sales_by_sched = (\n",
    "    pd.read_sql(\"f1_sales_by_sched\", ferc1_engine).\n",
    "    pipe(pudl.transform.ferc1.unpack_table,\n",
    "         table_name=\"f1_sales_by_sched\",\n",
    "         data_cols=[\n",
    "             \"mwh_sold\",\n",
    "             \"revenue\",\n",
    "             \"avg_num_cstmr\"\n",
    "         ],\n",
    "         data_rows=[\n",
    "             \"total\"\n",
    "         ])\n",
    "    .droplevel(1, axis=\"columns\")\n",
    "    .dropna(how=\"all\")\n",
    "    .query(\"report_prd==12\")\n",
    "    .reset_index()\n",
    "    .set_index([\"respondent_id\", \"report_year\", \"spplmnt_num\"])\n",
    "    .drop(\"report_prd\", axis=\"columns\")\n",
    "    .rename(columns={\n",
    "        \"avg_num_cstmr\": \"avg_customers\",\n",
    "    })\n",
    "    .astype({\"avg_customers\": \"Int64\"})\n",
    ")"
   ]
  },
  {
   "cell_type": "markdown",
   "metadata": {
    "toc-hr-collapsed": true
   },
   "source": [
    "# O&M Expenses"
   ]
  },
  {
   "cell_type": "markdown",
   "metadata": {},
   "source": [
    "### Request 2:\n",
    "* **p320 L5(b)** (Steam) Fuel (501)\n",
    "* **p320 L25(b)** (Nuclear) Fuel (518)\n",
    "* **p320 L63(b)** (Other) Fuel (547)\n",
    "* **p321 L76(b)** Purchased Power (555)"
   ]
  },
  {
   "cell_type": "code",
   "execution_count": null,
   "metadata": {},
   "outputs": [],
   "source": [
    "elec_oandm = (\n",
    "    pd.read_sql(\"f1_elc_op_mnt_expn\", ferc1_engine)\n",
    "    .pipe(\n",
    "        pudl.transform.ferc1.unpack_table,\n",
    "        table_name=\"f1_elc_op_mnt_expn\",\n",
    "        data_cols=[\n",
    "            \"crnt_yr_amt\"\n",
    "        ],\n",
    "        data_rows=[\n",
    "            \"production_steam_ops_acct501_fuel\",\n",
    "            \"production_nuclear_ops_acct518_fuel\",\n",
    "            \"production_other_ops_acct547_fuel\",\n",
    "            \"production_supply_acct555_purchased_power\",\n",
    "        ])\n",
    "    .droplevel(0, axis=\"columns\")\n",
    "    .dropna(how=\"all\")\n",
    "    .query(\"report_prd==12\")\n",
    "    .reset_index()\n",
    "    .set_index([\"respondent_id\", \"report_year\"])\n",
    "    .drop([\"report_prd\", \"spplmnt_num\"], axis=\"columns\")\n",
    "    .rename_axis(columns=None)\n",
    ")"
   ]
  },
  {
   "cell_type": "markdown",
   "metadata": {
    "toc-hr-collapsed": true
   },
   "source": [
    "# Operating Revenues"
   ]
  },
  {
   "cell_type": "markdown",
   "metadata": {},
   "source": [
    "### Request 2:\n",
    "* **p300 L10(b,d,f)** TOTAL Sales to Ultimate Consumers (revenues, MWh, avg customers)\n",
    "* **p300 L11(b,d,f)** Sales for Resale (447) (revenues, MWh, avg customers)\n",
    "* **p300 L12(b,d,f)** TOTAL Sales of Electricity (revenues, MWh, avg customers)\n",
    "\n",
    "### Additional Data in lieu of `f1_sales_by_sched`\n",
    "* **p300 L2(b,d,f)** Residential Sales (440) (revenues, MWh, avg customers)\n",
    "* **p300 L4(b,d,f)** Commercial and Industrial Sales, Small (442) (revenues, MWh, avg customers)\n",
    "* **p300 L5(b,d,f)** Commercial and Industrial Sales, Large (442) (revenues, MWh, avg customers)\n"
   ]
  },
  {
   "cell_type": "code",
   "execution_count": null,
   "metadata": {},
   "outputs": [],
   "source": [
    "sales_hierarchical = (\n",
    "    pd.read_sql(\"f1_elctrc_oper_rev\", ferc1_engine)\n",
    "    .pipe(\n",
    "        pudl.transform.ferc1.unpack_table,\n",
    "        table_name=\"f1_elctrc_oper_rev\",\n",
    "        data_cols=[\n",
    "            \"rev_amt_crnt_yr\",\n",
    "            \"mwh_sold_crnt_yr\",\n",
    "            \"avg_cstmr_crntyr\"\n",
    "        ],\n",
    "        data_rows=[\n",
    "            \"sales_acct440_residential\",\n",
    "            \"sales_acct442_commercial_industrial_small\",\n",
    "            \"sales_acct442_commercial_industrial_large\",\n",
    "            \"sales_acct447_for_resale\",\n",
    "            \"sales_ultimate_consumers_total\",\n",
    "            \"sales_of_electricity_total\",\n",
    "            \"sales_revenues_net_total\",\n",
    "        ])\n",
    "    .dropna(how=\"all\")\n",
    "    .query(\"report_prd==12\")\n",
    "    .reset_index()\n",
    "    .set_index([\"respondent_id\", \"report_year\"])\n",
    "    .drop([(\"report_prd\", \"\"), (\"spplmnt_num\", \"\")], axis=\"columns\")\n",
    "    .rename_axis(columns=[None, None])\n",
    "    .assign(avg_cstmr_crntyr=lambda x: x.loc[:, \"avg_cstmr_crntyr\"].astype(\"Int64\"))\n",
    ")\n",
    "\n",
    "sales_revenue = (\n",
    "    sales_hierarchical.loc[:, \"rev_amt_crnt_yr\"]\n",
    "    .add_suffix(\"_revenue\")\n",
    ")\n",
    "sales_mwh = (\n",
    "    sales_hierarchical.loc[:, \"mwh_sold_crnt_yr\"]\n",
    "    .add_suffix(\"_mwh\")\n",
    ")\n",
    "sales_customers = (\n",
    "    sales_hierarchical.loc[:, \"avg_cstmr_crntyr\"]\n",
    "    .add_suffix(\"_customers\")\n",
    ")\n",
    "\n",
    "elec_sales = pd.concat([sales_revenue, sales_mwh, sales_customers], axis=\"columns\")\n",
    "elec_sales = elec_sales.loc[:,elec_sales.columns.sort_values()]"
   ]
  },
  {
   "cell_type": "markdown",
   "metadata": {
    "toc-hr-collapsed": true
   },
   "source": [
    "# Income Statements"
   ]
  },
  {
   "cell_type": "markdown",
   "metadata": {},
   "source": [
    "## Request 1\n",
    "* **p115 L2(g+h)** Electric Operating Revenues Current+Prior Year\n",
    "* **p115 L?(g+h)** Electric Operating Expenses Current+Prior Year\n",
    "* **p115 L26(g+h)** Electric Net Util Oper Inc Current Year Current+Prior Year\n",
    "\n",
    "## Request 2\n",
    "* **p114 L6(g)** Depreciation Expense (403)\n",
    "* **p114 L7(g)** Depreciation Expense for Asset Retirement Costs (403.1)\n",
    "* **p114 L8(g)** Amort. & Depl. of Utility Plant (404-405)\n",
    "* **p114 L9(g)** Amort. of Uitlity Plant Acq. Adj. (406)\n",
    "* **p114 L10(g)** Amort. of Property Losses, Urecov Plant and Reg. Study Costs (407)\n",
    "* **p114 L11(g)** Amort. of Conversion Expenses (407)\n",
    "* **p114 L14(g)** Taxes other than Income taxes (408.1)\n",
    "* **p114 L15(g)** Income Taxes - Federal (409.1)\n",
    "* **p114 L16(g)** Other (409.1)\n",
    "* **p114 L17(g)** Provision for Deferred Income Taxes (410.1)\n",
    "* **p114 L18(g)** (Less) Provision for Deferred Tax Credits (411.1)\n",
    "* **p114 L19(g)** Investment Tax Credit Adj. - Net (411.4) "
   ]
  },
  {
   "cell_type": "code",
   "execution_count": null,
   "metadata": {},
   "outputs": [],
   "source": [
    "elec_income = (\n",
    "    pd.read_sql(\"f1_income_stmnt\", ferc1_engine)\n",
    "    .pipe(\n",
    "        pudl.transform.ferc1.unpack_table,\n",
    "        table_name=\"f1_income_stmnt\",\n",
    "        data_cols = [\n",
    "            \"cy_elctrc_total\",\n",
    "        ],\n",
    "        data_rows = [\n",
    "            \"operating_revenues_acct400\",\n",
    "            \"depreciation_expenses_acct403\",\n",
    "            \"depreciation_expenses_asset_retirement_acct403_1\",\n",
    "            \"amortization_depletion_utility_plant_acct404_405\",\n",
    "            \"amortization_utility_plant_acquired_acct406\",\n",
    "            \"amortized_conversion_expenses_acct407\",\n",
    "            \"amortized_losses_acct407\",\n",
    "            \"non_income_tax_acct408_1\",\n",
    "            \"federal_income_tax_acct409_1\",\n",
    "            \"other_acct409_1\",\n",
    "            \"deferred_income_tax_acct410_1\",\n",
    "            \"deferred_income_tax_credit_acct411_1\",\n",
    "            \"investment_tax_credit_acct411_4\",\n",
    "            \"utility_operating_expenses_total\",\n",
    "            \"net_utility_operating_income\",\n",
    "        ])\n",
    "    .dropna(how=\"all\")\n",
    "    .query(\"report_prd==12\")\n",
    "    .droplevel(0, axis=\"columns\")\n",
    "    .reset_index()\n",
    "    .set_index([\"respondent_id\", \"report_year\"])\n",
    "    .drop([\"report_prd\", \"spplmnt_num\"], axis=\"columns\")\n",
    "    .rename_axis(columns=None)\n",
    ")"
   ]
  },
  {
   "cell_type": "markdown",
   "metadata": {
    "toc-hr-collapsed": true
   },
   "source": [
    "# Depreciation"
   ]
  },
  {
   "cell_type": "markdown",
   "metadata": {},
   "source": [
    "### Request 1:\n",
    "* **P336 L12(f)** Electric Depreciation Expense"
   ]
  },
  {
   "cell_type": "code",
   "execution_count": null,
   "metadata": {},
   "outputs": [],
   "source": [
    "elec_depreciation = (\n",
    "    pd.read_sql(\"f1_dacs_epda\", ferc1_engine)\n",
    "    .pipe(\n",
    "        pudl.transform.ferc1.unpack_table,\n",
    "        table_name=\"f1_dacs_epda\",\n",
    "        data_cols=['total'],\n",
    "        data_rows=[\"total_electric_plant\"]\n",
    "    )\n",
    "    .dropna(how=\"all\")\n",
    "    .query(\"report_prd==12\")\n",
    "    .droplevel(0, axis=\"columns\")\n",
    "    .reset_index()\n",
    "    .set_index([\"respondent_id\", \"report_year\"])\n",
    "    .drop([\"report_prd\", \"spplmnt_num\"], axis=\"columns\")\n",
    "    .rename_axis(columns=None)\n",
    ")"
   ]
  },
  {
   "cell_type": "markdown",
   "metadata": {
    "toc-hr-collapsed": true
   },
   "source": [
    "# Plant in Service"
   ]
  },
  {
   "cell_type": "markdown",
   "metadata": {},
   "source": [
    "### Request 1:\n",
    "* **P206 L104(b)** TOTAL Electric Plant in Service Bal Beginning of Year\n",
    "* **P206 L104(g)** TOTAL Electric Plant in Service Bal End of Year"
   ]
  },
  {
   "cell_type": "code",
   "execution_count": null,
   "metadata": {},
   "outputs": [],
   "source": [
    "elec_plant_in_service = (\n",
    "    pd.read_sql(\"f1_plant_in_srvce\", ferc1_engine)\n",
    "    .pipe(\n",
    "        pudl.transform.ferc1.unpack_table,\n",
    "        table_name=\"f1_plant_in_srvce\",\n",
    "        data_cols=[\"begin_yr_bal\", \"yr_end_bal\"],\n",
    "        data_rows=[\"electric_plant_in_service_total\"]\n",
    "    )\n",
    "    .dropna(how=\"all\")\n",
    "    .query(\"report_prd==12\")\n",
    "    .droplevel(1, axis=\"columns\")\n",
    "    .reset_index()\n",
    "    .set_index([\"respondent_id\", \"report_year\"])\n",
    "    .drop([\"report_prd\", \"spplmnt_num\"], axis=\"columns\")\n",
    "    .rename(columns={\n",
    "        \"begin_yr_bal\": \"starting_balance\",\n",
    "        \"yr_end_bal\": \"ending_balance\",\n",
    "    })\n",
    ")"
   ]
  },
  {
   "cell_type": "markdown",
   "metadata": {
    "toc-hr-collapsed": true
   },
   "source": [
    "# EIA 861 Sales by Customer Class"
   ]
  },
  {
   "cell_type": "markdown",
   "metadata": {},
   "source": [
    "## Request 2:\n",
    "\n",
    "**Pull:**\n",
    "  * Annual revenues (USD)\n",
    "  * Annual sales (MWh)\n",
    "  * Annual customers counts\n",
    "\n",
    "**For each of:**\n",
    "  * Residential customers\n",
    "  * Commercial customers\n",
    "  * Industrial customers\n",
    "  * All Customers (even though are others like Transportation sales in there?)"
   ]
  },
  {
   "cell_type": "code",
   "execution_count": null,
   "metadata": {},
   "outputs": [],
   "source": [
    "import pudl.extract.eia861\n",
    "eia861_years = range(1999,2019)\n",
    "eia861_extractor = pudl.extract.eia861.ExtractorExcel(\n",
    "    dataset_name=\"eia861\",\n",
    "    years=eia861_years,\n",
    "    pudl_settings=pudl_settings\n",
    ")\n",
    "eia861_dfs = eia861_extractor.create_dfs(years=eia861_years)\n",
    "sales_eia861 = eia861_dfs[\"sales_eia861_states\"]\n",
    "cols = [\n",
    "    \"report_year\",\n",
    "    \"utility_id_eia\",\n",
    "    \"state\",\n",
    "    \n",
    "    \"residential_revenues\",\n",
    "    \"residential_sales_mwh\",\n",
    "    \"residential_customers\",\n",
    "    \n",
    "    \"commercial_revenues\",\n",
    "    \"commercial_sales_mwh\",\n",
    "    \"commercial_customers\",\n",
    "    \n",
    "    \"industrial_revenues\",\n",
    "    \"industrial_sales_mwh\",\n",
    "    \"industrial_customers\",\n",
    "    \n",
    "    \"transportation_revenues\",\n",
    "    \"transportation_sales_mwh\",\n",
    "    \"transportation_customers\",\n",
    "    \n",
    "    \"other_revenues\",\n",
    "    \"other_sales_mwh\",\n",
    "    \"other_customers\",\n",
    "    \n",
    "    \"total_revenues\",\n",
    "    \"total_sales_mwh\",\n",
    "    \"total_customers\",\n",
    "]\n",
    "sales_eia861 = (\n",
    "    sales_eia861.loc[:,cols].reset_index(drop=True)\n",
    "    .query(\"utility_id_eia not in (88888, 99999)\")\n",
    "    .assign(report_year=lambda x: pd.to_numeric(x.report_year, errors=\"coerce\"))\n",
    "    .dropna(subset=[\"report_year\", \"utility_id_eia\"])\n",
    "    .astype({\"report_year\": int, \"utility_id_eia\": int}, errors=\"ignore\")\n",
    ")\n",
    "\n",
    "rev_cols = sales_eia861.filter(regex=\".*_revenues$\").columns\n",
    "for col in rev_cols:\n",
    "    sales_eia861.loc[:,col] = 1000.0 * pd.to_numeric(sales_eia861[col], errors=\"coerce\")\n",
    "\n",
    "cust_cols = sales_eia861.filter(regex=\".*_customers$\").columns\n",
    "for col in cust_cols:\n",
    "    sales_eia861.loc[:,col] = pd.to_numeric(sales_eia861[col], errors=\"coerce\").astype(\"Int64\")\n",
    "\n",
    "mwh_cols = sales_eia861.filter(regex=\".*_sales_mwh$\").columns\n",
    "for col in mwh_cols:\n",
    "    sales_eia861.loc[:,col] = pd.to_numeric(sales_eia861[col], errors=\"coerce\")\n",
    "\n",
    "#new_df = pd.DataFrame()\n",
    "#for customer_class in [\"residential\", \"commercial\", \"industrial\", \"transportation\", \"other\", \"total\"]:\n",
    "#    tmp_df = (\n",
    "#        sales_eia861.set_index([\"utility_id_eia\", \"report_year\", \"state\"])\n",
    "#        .filter(regex=f\"^{customer_class}_.*\")\n",
    "#        .assign(customer_class=customer_class)\n",
    "#        .rename(columns=lambda x: re.sub(f\"^{customer_class}_\", \"\", x))\n",
    "#    )\n",
    "#    new_df = new_df.append(tmp_df)\n",
    "\n",
    "#sales_eia861 = (\n",
    "#    new_df.reset_index()\n",
    "#    .assign(\n",
    "#        revenues=lambda x: 1000.0 * pd.to_numeric(x.revenues, errors=\"coerce\"),\n",
    "#        customers=lambda x: pd.to_numeric(x.customers, errors=\"coerce\"),\n",
    "#        sales_mwh=lambda x: pd.to_numeric(x.sales_mwh, errors=\"coerce\")\n",
    "#    )\n",
    "#    .astype({\"customers\": \"Int64\"})\n",
    "#    .set_index([\"utility_id_eia\", \"state\", \"report_year\", \"customer_class\"])\n",
    "#    .reset_index()\n",
    "#)"
   ]
  },
  {
   "cell_type": "code",
   "execution_count": null,
   "metadata": {},
   "outputs": [],
   "source": [
    "ferc1_dfs = {\n",
    "    \"elec_oandm_ferc1\": elec_oandm,\n",
    "    \"elec_sales_ferc1\": elec_sales,\n",
    "    \"elec_income_ferc1\": elec_income,\n",
    "    \"elec_depreciation_ferc1\": elec_depreciation,\n",
    "    \"elec_plant_in_service_ferc1\": elec_plant_in_service,\n",
    "}"
   ]
  },
  {
   "cell_type": "markdown",
   "metadata": {
    "toc-hr-collapsed": true
   },
   "source": [
    "# Check Data Quality"
   ]
  },
  {
   "cell_type": "markdown",
   "metadata": {},
   "source": [
    "## Spot check dataframes"
   ]
  },
  {
   "cell_type": "code",
   "execution_count": null,
   "metadata": {},
   "outputs": [],
   "source": [
    "elec_plant_in_service.columns"
   ]
  },
  {
   "cell_type": "code",
   "execution_count": null,
   "metadata": {},
   "outputs": [],
   "source": [
    "elec_depreciation.columns"
   ]
  },
  {
   "cell_type": "code",
   "execution_count": null,
   "metadata": {},
   "outputs": [],
   "source": [
    "print(elec_plant_in_service.count())"
   ]
  },
  {
   "cell_type": "code",
   "execution_count": null,
   "metadata": {},
   "outputs": [],
   "source": [
    "df = pd.merge(elec_plant_in_service, elec_depreciation, left_index=True, right_index=True)"
   ]
  },
  {
   "cell_type": "code",
   "execution_count": null,
   "metadata": {},
   "outputs": [],
   "source": [
    "sns.scatterplot(x=\"total_electric_plant\", y=\"ending_balance\", data=df)"
   ]
  },
  {
   "cell_type": "code",
   "execution_count": null,
   "metadata": {},
   "outputs": [],
   "source": [
    "elec_income.columns"
   ]
  },
  {
   "cell_type": "code",
   "execution_count": null,
   "metadata": {},
   "outputs": [],
   "source": [
    "elec_income.sample(10)"
   ]
  },
  {
   "cell_type": "code",
   "execution_count": null,
   "metadata": {},
   "outputs": [],
   "source": [
    "df = elec_income.reset_index()\n",
    "df[\"net_income_calculated\"] = df.operating_revenues_acct400 - df.utility_operating_expenses_total\n",
    "income_totals = [\n",
    "    \"operating_revenues_acct400\",\n",
    "    \"utility_operating_expenses_total\",\n",
    "    \"net_utility_operating_income\",\n",
    "    \"net_income_calculated\",\n",
    "]\n",
    "for col in income_totals:\n",
    "    sns.lineplot(x=\"report_year\", y=col, data=df, estimator=\"sum\", label=col)\n",
    "plt.ylabel(\"USD\")\n",
    "plt.legend()\n",
    "plt.show();"
   ]
  },
  {
   "cell_type": "code",
   "execution_count": null,
   "metadata": {},
   "outputs": [],
   "source": [
    "sns.scatterplot(x=\"net_utility_operating_income\", y=\"net_income_calculated\", data=df)"
   ]
  },
  {
   "cell_type": "code",
   "execution_count": null,
   "metadata": {},
   "outputs": [],
   "source": [
    "df = elec_sales.reset_index()\n",
    "mwh_cols = df.filter(regex=\".*acct.*mwh$\").columns\n",
    "df = pudl.transform.ferc1.oob_to_nan(df, mwh_cols, ub=1e9)\n",
    "cust_cols = df.filter(regex=\".*acct.*customers$\").columns\n",
    "df.loc[:,cust_cols] = df.loc[:,cust_cols].astype(float)\n",
    "rev_cols = df.filter(regex=\".*acct.*revenue$\").columns"
   ]
  },
  {
   "cell_type": "code",
   "execution_count": null,
   "metadata": {},
   "outputs": [],
   "source": [
    "mwh_cols"
   ]
  },
  {
   "cell_type": "code",
   "execution_count": null,
   "metadata": {},
   "outputs": [],
   "source": [
    "for var in mwh_cols:\n",
    "    sns.lineplot(x=\"report_year\", y=var, data=df, estimator=\"mean\", label=var)\n",
    "    plt.ylabel(\"Electricity Sold [MWh]\")\n",
    "    plt.xlabel(None)\n",
    "    plt.legend()\n",
    "    plt.show()\n"
   ]
  },
  {
   "cell_type": "code",
   "execution_count": null,
   "metadata": {},
   "outputs": [],
   "source": [
    "for var in cust_cols:\n",
    "    sns.lineplot(x=\"report_year\", y=var, data=df, estimator=\"mean\", label=var)\n",
    "    plt.ylabel(\"Number of Customers\")\n",
    "    plt.xlabel(None)\n",
    "    plt.legend()\n",
    "    plt.show()\n"
   ]
  },
  {
   "cell_type": "code",
   "execution_count": null,
   "metadata": {},
   "outputs": [],
   "source": [
    "df.query(\"respondent_id==151\")"
   ]
  },
  {
   "cell_type": "code",
   "execution_count": null,
   "metadata": {},
   "outputs": [],
   "source": [
    "sns.lineplot(x=\"report_year\", y=\"sales_acct447_for_resale_customers\", data=df, units=\"respondent_id\", estimator=None)"
   ]
  },
  {
   "cell_type": "code",
   "execution_count": null,
   "metadata": {},
   "outputs": [],
   "source": [
    "for var in rev_cols:\n",
    "    sns.lineplot(x=\"report_year\", y=var, data=df, estimator=\"mean\", label=var)\n",
    "plt.ylabel(\"Electricity Revenues [USD]\")\n",
    "plt.xlabel(None)\n",
    "plt.legend()\n",
    "plt.show()"
   ]
  },
  {
   "cell_type": "code",
   "execution_count": null,
   "metadata": {},
   "outputs": [],
   "source": [
    "mwh_cols"
   ]
  },
  {
   "cell_type": "code",
   "execution_count": null,
   "metadata": {},
   "outputs": [],
   "source": [
    "sns.scatterplot(x=\"sales_acct440_residential_mwh\", y=\"sales_acct440_residential_revenue\", data=df, alpha=0.1, label=\"Residential\")\n",
    "plt.show()\n",
    "sns.scatterplot(x=\"sales_acct442_commercial_industrial_small_mwh\", y=\"sales_acct442_commercial_industrial_small_revenue\", data=df, alpha=0.1, label=\"Small C&I\")\n",
    "plt.show()\n",
    "sns.scatterplot(x=\"sales_acct442_commercial_industrial_large_mwh\", y=\"sales_acct442_commercial_industrial_large_revenue\", data=df, alpha=0.1, label=\"Large C&I\")\n",
    "plt.show()"
   ]
  },
  {
   "cell_type": "code",
   "execution_count": null,
   "metadata": {},
   "outputs": [],
   "source": [
    "df = elec_sales.reset_index()\n",
    "for var in df.filter(regex=\".*acct.*customers$\").columns:\n",
    "    sns.lineplot(x=\"report_year\", y=var, data=df, estimator=\"sum\", label=var)\n",
    "\n",
    "plt.ylabel(\"Customers\")\n",
    "plt.xlabel(None)\n",
    "plt.legend()"
   ]
  },
  {
   "cell_type": "code",
   "execution_count": null,
   "metadata": {},
   "outputs": [],
   "source": [
    "df = elec_oandm.reset_index()\n",
    "for var in df.filter(regex=\"^production_.*\").columns:\n",
    "    sns.lineplot(x=\"report_year\", y=var, data=df, estimator=\"sum\", label=var.split('_')[1])\n",
    "plt.ylabel(\"[USD]\")\n",
    "plt.xlabel(None)\n",
    "plt.title(\"Total Fuel / Purchased Power Costs\")\n",
    "plt.legend()\n",
    "plt.show()"
   ]
  },
  {
   "cell_type": "code",
   "execution_count": null,
   "metadata": {},
   "outputs": [],
   "source": [
    "sns.lineplot(x=\"report_year\", y=\"production_steam_ops_acct501_fuel\", data=df, units=\"respondent_id\", estimator=None, alpha=0.1)\n",
    "plt.show()\n",
    "sns.lineplot(x=\"report_year\", y=\"production_nuclear_ops_acct518_fuel\", data=df, units=\"respondent_id\", estimator=None, alpha=0.1)\n",
    "plt.show()\n",
    "sns.lineplot(x=\"report_year\", y=\"production_other_ops_acct547_fuel\", data=df, units=\"respondent_id\", estimator=None, alpha=0.1)\n",
    "plt.show()\n",
    "sns.lineplot(x=\"report_year\", y=\"production_supply_acct555_purchased_power\", data=df, units=\"respondent_id\", estimator=None, alpha=0.1)\n",
    "plt.show()"
   ]
  },
  {
   "cell_type": "markdown",
   "metadata": {},
   "source": [
    "# Prepare Data for Output"
   ]
  },
  {
   "cell_type": "markdown",
   "metadata": {},
   "source": [
    "## Select requested utilities\n",
    "* Use Binz' target list to select a subset of the tables/columns.\n",
    "* Add missing & unmapped `utility_id_ferc1` values to the (FERC) target list:\n",
    "    - **`eia 22500`** : `ferc1 191, 276` (Westar Energy)\n",
    "    - **`eia 13780`** : `ferc1 121` (Northern States Power Company - WI)\n",
    "    - **`eia 13809, 13902`** : `ferc1 122` (Northwestern Public Service Co)\n",
    "* Merge in additional utility name/ID fields for readability."
   ]
  },
  {
   "cell_type": "code",
   "execution_count": null,
   "metadata": {},
   "outputs": [],
   "source": [
    "# Grab the EIA/FERC Utility IDs & Names:\n",
    "utilities_eia = pd.read_sql(\"utilities_eia\", pudl_engine)\n",
    "utilities_ferc1 = pd.read_sql(\"utilities_ferc1\", pudl_engine)\n",
    "\n",
    "# Get Binz' list of utilities based on EIA IDs:\n",
    "rbinz_eia_utils = pd.read_csv(\"rbinz_instructions.csv\", index_col=\"utility_id_eia\")\n",
    "\n",
    "# Infer FERC 1 Utility IDs for Binz' targets:\n",
    "utility_id_eia_targets = (\n",
    "    rbinz_eia_utils\n",
    "    .merge(utilities_eia, how=\"left\", on=\"utility_id_eia\", suffixes=(\"_rbinz\", \"_pudl\"))\n",
    "    .astype({\"utility_id_pudl\": 'Int64'})\n",
    "    .dropna(subset=[\"utility_id_pudl\"])\n",
    "    .merge(utilities_ferc1, how=\"left\", on=\"utility_id_pudl\")\n",
    "    .astype({\"utility_id_ferc1\": 'Int64'})\n",
    "    .set_index(\"utility_id_eia\")\n",
    "    .dropna(subset=[\"utility_id_ferc1\"])\n",
    ")\n",
    "\n",
    "# Add in a few FERC1 IDs that were missing:\n",
    "utility_id_ferc1_targets = set(utility_id_eia_targets.utility_id_ferc1).union({121, 122, 191, 276})"
   ]
  },
  {
   "cell_type": "code",
   "execution_count": null,
   "metadata": {},
   "outputs": [],
   "source": [
    "binz_out = {}\n",
    "for k in ferc1_dfs.keys():\n",
    "    binz_out[k]= (\n",
    "        ferc1_dfs[k].reset_index()\n",
    "        .rename(columns={\"respondent_id\": \"utility_id_ferc1\"})\n",
    "        .query(\"utility_id_ferc1 in @utility_id_ferc1_targets\")\n",
    "        .merge(utilities_ferc1, on=\"utility_id_ferc1\")\n",
    "        .merge(utilities_eia[[\"utility_id_pudl\", \"utility_id_eia\"]], on=\"utility_id_pudl\")\n",
    "        .set_index([\"utility_id_ferc1\", \"report_year\", \"utility_name_ferc1\", \"utility_id_eia\", \"utility_id_pudl\"])\n",
    "        .reset_index()\n",
    "    )\n",
    "    print(f\"{len(binz_out[k])} records in {k}\")\n"
   ]
  },
  {
   "cell_type": "code",
   "execution_count": null,
   "metadata": {},
   "outputs": [],
   "source": [
    "all_target_eia_ids = set(utility_id_eia_targets.reset_index().utility_id_eia).union({22500, 13780, 13809, 13902})\n",
    "binz_out[\"elec_sales_eia861\"] = (\n",
    "    sales_eia861\n",
    "    .merge(utilities_eia, on=\"utility_id_eia\", how=\"left\")\n",
    "    .query(\"utility_id_eia in @all_target_eia_ids\")\n",
    "    .merge(utilities_ferc1, on=\"utility_id_pudl\", how=\"left\")\n",
    "    .set_index([\"utility_id_eia\", \"report_year\", \"utility_name_eia\", \"utility_id_pudl\", \"utility_id_ferc1\", \"utility_name_ferc1\", \"state\"])\n",
    "    .reset_index()\n",
    "    .astype({\"utility_id_pudl\": \"Int64\",\n",
    "             \"utility_id_ferc1\": \"Int64\"})\n",
    ")"
   ]
  },
  {
   "cell_type": "code",
   "execution_count": null,
   "metadata": {},
   "outputs": [],
   "source": [
    "for df in binz_out:\n",
    "    print(f\"Writing {df}.csv\")\n",
    "    binz_out[df].to_csv(f\"{df}.csv\", index=False)"
   ]
  },
  {
   "cell_type": "code",
   "execution_count": null,
   "metadata": {},
   "outputs": [],
   "source": []
  }
 ],
 "metadata": {
  "kernelspec": {
   "display_name": "Python 3",
   "language": "python",
   "name": "python3"
  },
  "language_info": {
   "codemirror_mode": {
    "name": "ipython",
    "version": 3
   },
   "file_extension": ".py",
   "mimetype": "text/x-python",
   "name": "python",
   "nbconvert_exporter": "python",
   "pygments_lexer": "ipython3",
   "version": "3.7.3"
  }
 },
 "nbformat": 4,
 "nbformat_minor": 4
}
